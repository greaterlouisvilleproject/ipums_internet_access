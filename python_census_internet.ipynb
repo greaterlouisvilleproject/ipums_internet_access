{
 "cells": [
  {
   "cell_type": "markdown",
   "metadata": {},
   "source": [
    "## Internet Access in Louisville"
   ]
  },
  {
   "cell_type": "code",
   "execution_count": 94,
   "metadata": {},
   "outputs": [],
   "source": [
    "import pandas as pd\n",
    "import numpy as np"
   ]
  },
  {
   "cell_type": "code",
   "execution_count": 95,
   "metadata": {},
   "outputs": [],
   "source": [
    "# open a file with a context manager\n",
    "\n",
    "# The context manager will close file from systems memory but retain variables. pd.read_csv does not clean up by closing the file \n",
    "# with(open(a))\n",
    "\n",
    "df = pd.read_csv(\"jeff_co_int.csv\")\n"
   ]
  },
  {
   "cell_type": "code",
   "execution_count": 96,
   "metadata": {},
   "outputs": [
    {
     "output_type": "execute_result",
     "data": {
      "text/plain": "['YEAR',\n 'SAMPLE',\n 'SERIAL',\n 'CBSERIAL',\n 'HHWT',\n 'CLUSTER',\n 'STATEFIP',\n 'METRO',\n 'MET2013',\n 'PUMA',\n 'STRATA',\n 'GQ',\n 'CINETHH',\n 'CILAPTOP',\n 'CISMRTPHN',\n 'CITABLET',\n 'CIHISPEED',\n 'CIDIAL',\n 'PERNUM',\n 'PERWT',\n 'SEX',\n 'AGE',\n 'RACE',\n 'RACED',\n 'HISPAN',\n 'HISPAND',\n 'EDUC',\n 'EDUCD',\n 'POVERTY',\n 'city',\n 'int_acc',\n 'hspd_int',\n 'computer',\n 'tablet',\n 'comp_tab',\n 'hspd_dev']"
     },
     "metadata": {},
     "execution_count": 96
    }
   ],
   "source": [
    "list(df)"
   ]
  },
  {
   "cell_type": "markdown",
   "metadata": {},
   "source": [
    "There is no case_when in pandas. So it's either a nested else if, or just create a new column and fill in the values. I find filling in the values easier to read than a nested else if\n",
    "\n",
    "There is a case_when statement in numpy, so you can use that. \n",
    "https://note.nkmk.me/en/python-numpy-where/"
   ]
  },
  {
   "cell_type": "code",
   "execution_count": 97,
   "metadata": {},
   "outputs": [],
   "source": [
    "# Start by creating a new column and filling it with NA values\n",
    "df['hspd'] = np.nan\n",
    "\n",
    "# Any time high speed internet is between 10 and 17 in the Census codebook it means they do have internet\n",
    "df['hspd'].loc[((df['CIHISPEED'] >= 10) & (df['CIHISPEED'] <= 17))] = 1\n",
    "\n",
    "# If they don't have internet at all and are NA for the high speed internet question then we want them marked as not having high speed internet, not as an NA value\n",
    "df['hspd'].loc[((df['CINETHH'] == 3) & (df['CIHISPEED'] == 0))] = 0\n",
    "\n",
    "# Finally if they say they don't have high speed internet we want them marked as not having high speed internet\n",
    "df['hspd'].loc[df['CIHISPEED'] == 20] = 0\n"
   ]
  },
  {
   "cell_type": "markdown",
   "metadata": {},
   "source": [
    "Now we need to use census weights to appropriately estimate the percentage of people with high speed internet in their households. "
   ]
  },
  {
   "cell_type": "code",
   "execution_count": 98,
   "metadata": {},
   "outputs": [],
   "source": [
    "# df18 = df.query('YEAR == 2018')\n",
    "df18 = df[df.YEAR == 2018]"
   ]
  },
  {
   "cell_type": "code",
   "execution_count": 99,
   "metadata": {},
   "outputs": [],
   "source": [
    "per_int = df18['PERWT'].loc[df18['hspd'] == 1].sum()\n",
    "per_no_int = df18['PERWT'].loc[df18['hspd'] == 0].sum()\n",
    "per_total = df18['PERWT'].sum()\n",
    "per_int_percent = per_int/per_total"
   ]
  },
  {
   "cell_type": "code",
   "execution_count": 100,
   "metadata": {},
   "outputs": [
    {
     "output_type": "execute_result",
     "data": {
      "text/plain": "0.7204147671636177"
     },
     "metadata": {},
     "execution_count": 100
    }
   ],
   "source": [
    "per_int_percent"
   ]
  },
  {
   "cell_type": "code",
   "execution_count": 101,
   "metadata": {},
   "outputs": [
    {
     "output_type": "execute_result",
     "data": {
      "text/plain": "771035"
     },
     "metadata": {},
     "execution_count": 101
    }
   ],
   "source": [
    "per_total"
   ]
  },
  {
   "cell_type": "code",
   "execution_count": 102,
   "metadata": {},
   "outputs": [
    {
     "output_type": "execute_result",
     "data": {
      "text/plain": "    hspd  YEAR   PERWT\n0    0.0  2013  161299\n1    0.0  2014  170809\n2    0.0  2015  144626\n3    0.0  2016  158520\n4    0.0  2017  160849\n5    0.0  2018  184795\n6    1.0  2013  544770\n7    1.0  2014  526480\n8    1.0  2015  548358\n9    1.0  2016  573787\n10   1.0  2017  577340\n11   1.0  2018  555465",
      "text/html": "<div>\n<style scoped>\n    .dataframe tbody tr th:only-of-type {\n        vertical-align: middle;\n    }\n\n    .dataframe tbody tr th {\n        vertical-align: top;\n    }\n\n    .dataframe thead th {\n        text-align: right;\n    }\n</style>\n<table border=\"1\" class=\"dataframe\">\n  <thead>\n    <tr style=\"text-align: right;\">\n      <th></th>\n      <th>hspd</th>\n      <th>YEAR</th>\n      <th>PERWT</th>\n    </tr>\n  </thead>\n  <tbody>\n    <tr>\n      <td>0</td>\n      <td>0.0</td>\n      <td>2013</td>\n      <td>161299</td>\n    </tr>\n    <tr>\n      <td>1</td>\n      <td>0.0</td>\n      <td>2014</td>\n      <td>170809</td>\n    </tr>\n    <tr>\n      <td>2</td>\n      <td>0.0</td>\n      <td>2015</td>\n      <td>144626</td>\n    </tr>\n    <tr>\n      <td>3</td>\n      <td>0.0</td>\n      <td>2016</td>\n      <td>158520</td>\n    </tr>\n    <tr>\n      <td>4</td>\n      <td>0.0</td>\n      <td>2017</td>\n      <td>160849</td>\n    </tr>\n    <tr>\n      <td>5</td>\n      <td>0.0</td>\n      <td>2018</td>\n      <td>184795</td>\n    </tr>\n    <tr>\n      <td>6</td>\n      <td>1.0</td>\n      <td>2013</td>\n      <td>544770</td>\n    </tr>\n    <tr>\n      <td>7</td>\n      <td>1.0</td>\n      <td>2014</td>\n      <td>526480</td>\n    </tr>\n    <tr>\n      <td>8</td>\n      <td>1.0</td>\n      <td>2015</td>\n      <td>548358</td>\n    </tr>\n    <tr>\n      <td>9</td>\n      <td>1.0</td>\n      <td>2016</td>\n      <td>573787</td>\n    </tr>\n    <tr>\n      <td>10</td>\n      <td>1.0</td>\n      <td>2017</td>\n      <td>577340</td>\n    </tr>\n    <tr>\n      <td>11</td>\n      <td>1.0</td>\n      <td>2018</td>\n      <td>555465</td>\n    </tr>\n  </tbody>\n</table>\n</div>"
     },
     "metadata": {},
     "execution_count": 102
    }
   ],
   "source": [
    "year_totals = df.groupby(by = ['hspd', 'YEAR'], as_index = False)['PERWT'].sum() # if you don't use as_index = False you get a weird labeled series back that's hard to work with\n",
    "year_totals\n",
    "# if you want a specific column you can .sum([[col_name]])"
   ]
  },
  {
   "cell_type": "markdown",
   "metadata": {},
   "source": [
    "Pivoting the dataframe is probably the easiest way to sum and get percentages now"
   ]
  },
  {
   "cell_type": "code",
   "execution_count": 103,
   "metadata": {},
   "outputs": [
    {
     "output_type": "execute_result",
     "data": {
      "text/plain": "pandas.core.frame.DataFrame"
     },
     "metadata": {},
     "execution_count": 103
    }
   ],
   "source": [
    "type(year_totals)"
   ]
  },
  {
   "cell_type": "code",
   "execution_count": 104,
   "metadata": {},
   "outputs": [
    {
     "output_type": "execute_result",
     "data": {
      "text/plain": "hspd     0.0     1.0\nYEAR                \n2013  161299  544770\n2014  170809  526480\n2015  144626  548358\n2016  158520  573787\n2017  160849  577340\n2018  184795  555465",
      "text/html": "<div>\n<style scoped>\n    .dataframe tbody tr th:only-of-type {\n        vertical-align: middle;\n    }\n\n    .dataframe tbody tr th {\n        vertical-align: top;\n    }\n\n    .dataframe thead th {\n        text-align: right;\n    }\n</style>\n<table border=\"1\" class=\"dataframe\">\n  <thead>\n    <tr style=\"text-align: right;\">\n      <th>hspd</th>\n      <th>0.0</th>\n      <th>1.0</th>\n    </tr>\n    <tr>\n      <th>YEAR</th>\n      <th></th>\n      <th></th>\n    </tr>\n  </thead>\n  <tbody>\n    <tr>\n      <td>2013</td>\n      <td>161299</td>\n      <td>544770</td>\n    </tr>\n    <tr>\n      <td>2014</td>\n      <td>170809</td>\n      <td>526480</td>\n    </tr>\n    <tr>\n      <td>2015</td>\n      <td>144626</td>\n      <td>548358</td>\n    </tr>\n    <tr>\n      <td>2016</td>\n      <td>158520</td>\n      <td>573787</td>\n    </tr>\n    <tr>\n      <td>2017</td>\n      <td>160849</td>\n      <td>577340</td>\n    </tr>\n    <tr>\n      <td>2018</td>\n      <td>184795</td>\n      <td>555465</td>\n    </tr>\n  </tbody>\n</table>\n</div>"
     },
     "metadata": {},
     "execution_count": 104
    }
   ],
   "source": [
    "year_wide = year_totals.pivot(index = 'YEAR', columns = 'hspd', values = 'PERWT')\n",
    "year_wide   "
   ]
  },
  {
   "cell_type": "code",
   "execution_count": 105,
   "metadata": {},
   "outputs": [
    {
     "output_type": "execute_result",
     "data": {
      "text/plain": "Float64Index([0.0, 1.0], dtype='float64', name='hspd')"
     },
     "metadata": {},
     "execution_count": 105
    }
   ],
   "source": [
    "year_wide.columns"
   ]
  },
  {
   "cell_type": "code",
   "execution_count": 106,
   "metadata": {},
   "outputs": [
    {
     "output_type": "execute_result",
     "data": {
      "text/plain": "Int64Index([2013, 2014, 2015, 2016, 2017, 2018], dtype='int64', name='YEAR')"
     },
     "metadata": {},
     "execution_count": 106
    }
   ],
   "source": [
    "year_wide.index"
   ]
  },
  {
   "cell_type": "code",
   "execution_count": 107,
   "metadata": {},
   "outputs": [
    {
     "output_type": "execute_result",
     "data": {
      "text/plain": "'hspd'"
     },
     "metadata": {},
     "execution_count": 107
    }
   ],
   "source": [
    "year_wide.columns.name\n"
   ]
  },
  {
   "cell_type": "code",
   "execution_count": 108,
   "metadata": {},
   "outputs": [],
   "source": [
    "year_wide.columns.name = ''\n",
    "year_wide.rename(columns = {0.0 : 'hspd_no', 1.0 : 'hspd_yes'}, inplace = True)"
   ]
  },
  {
   "cell_type": "code",
   "execution_count": 109,
   "metadata": {},
   "outputs": [],
   "source": [
    "year_wide.reset_index(inplace = True)"
   ]
  },
  {
   "cell_type": "code",
   "execution_count": 110,
   "metadata": {},
   "outputs": [
    {
     "output_type": "execute_result",
     "data": {
      "text/plain": "   YEAR  hspd_no  hspd_yes       pct\n0  2013   161299    544770  0.771553\n1  2014   170809    526480  0.755038\n2  2015   144626    548358  0.791300\n3  2016   158520    573787  0.783533\n4  2017   160849    577340  0.782103\n5  2018   184795    555465  0.750365",
      "text/html": "<div>\n<style scoped>\n    .dataframe tbody tr th:only-of-type {\n        vertical-align: middle;\n    }\n\n    .dataframe tbody tr th {\n        vertical-align: top;\n    }\n\n    .dataframe thead th {\n        text-align: right;\n    }\n</style>\n<table border=\"1\" class=\"dataframe\">\n  <thead>\n    <tr style=\"text-align: right;\">\n      <th></th>\n      <th>YEAR</th>\n      <th>hspd_no</th>\n      <th>hspd_yes</th>\n      <th>pct</th>\n    </tr>\n  </thead>\n  <tbody>\n    <tr>\n      <td>0</td>\n      <td>2013</td>\n      <td>161299</td>\n      <td>544770</td>\n      <td>0.771553</td>\n    </tr>\n    <tr>\n      <td>1</td>\n      <td>2014</td>\n      <td>170809</td>\n      <td>526480</td>\n      <td>0.755038</td>\n    </tr>\n    <tr>\n      <td>2</td>\n      <td>2015</td>\n      <td>144626</td>\n      <td>548358</td>\n      <td>0.791300</td>\n    </tr>\n    <tr>\n      <td>3</td>\n      <td>2016</td>\n      <td>158520</td>\n      <td>573787</td>\n      <td>0.783533</td>\n    </tr>\n    <tr>\n      <td>4</td>\n      <td>2017</td>\n      <td>160849</td>\n      <td>577340</td>\n      <td>0.782103</td>\n    </tr>\n    <tr>\n      <td>5</td>\n      <td>2018</td>\n      <td>184795</td>\n      <td>555465</td>\n      <td>0.750365</td>\n    </tr>\n  </tbody>\n</table>\n</div>"
     },
     "metadata": {},
     "execution_count": 110
    }
   ],
   "source": [
    "\n",
    "year_wide['pct'] = year_wide['hspd_yes'] / (year_wide['hspd_yes'] + year_wide['hspd_no'])\n",
    "year_wide = year_wide.reset_index(drop = True)\n",
    "#year_wide.loc[(2013), :]\n",
    "year_wide"
   ]
  },
  {
   "cell_type": "code",
   "execution_count": 111,
   "metadata": {},
   "outputs": [],
   "source": [
    "#how do I get rid of the hspd column that seem to be niether a column nor an index. It insist that the index is YEAR...and I can't touch hspd which is meaningingless"
   ]
  }
 ],
 "metadata": {
  "language_info": {
   "codemirror_mode": {
    "name": "ipython",
    "version": 3
   },
   "file_extension": ".py",
   "mimetype": "text/x-python",
   "name": "python",
   "nbconvert_exporter": "python",
   "pygments_lexer": "ipython3",
   "version": 3
  },
  "orig_nbformat": 2,
  "kernelspec": {
   "name": "python_defaultSpec_1600273938234",
   "display_name": "Python 3.7.4 64-bit ('base': conda)"
  }
 },
 "nbformat": 4,
 "nbformat_minor": 2
}